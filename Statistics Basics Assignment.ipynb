{
 "cells": [
  {
   "cell_type": "markdown",
   "id": "785a7f32-85ea-40e6-8e98-277b0038c670",
   "metadata": {},
   "source": [
    "## Statistics Basics"
   ]
  },
  {
   "cell_type": "markdown",
   "id": "86f88093-08fe-41d0-9cce-c736f3604c39",
   "metadata": {},
   "source": [
    "Q1. What is statistics, and why is it important?"
   ]
  },
  {
   "cell_type": "markdown",
   "id": "f0e5cbf9-afb8-4c78-b827-37b19fed1aa1",
   "metadata": {},
   "source": [
    "A1. Statistics is a branch of mathematics that deals with the collection, organization, analysis, and interpretation of data. It helps us understand large amounts of information in a simple way. Statistics is important because it supports decision-making in various fields like business, economics, science, and government. "
   ]
  },
  {
   "cell_type": "markdown",
   "id": "8a7b151f-f92d-48c3-bc19-2ec9668a400f",
   "metadata": {},
   "source": [
    "Q2. What are the two main types of statistics?"
   ]
  },
  {
   "cell_type": "markdown",
   "id": "4ac158ab-50b2-4daa-b283-c5100dee666c",
   "metadata": {},
   "source": [
    "A2. There are two main types of statistics: descriptive statistics and inferential statistics. Descriptive statistics is used to summarize and describe the features of a dataset using measures like mean, median, mode, or graphs like bar charts and pie charts. It only deals with the data we have. \n",
    "On the other hand, inferential statistics is used to make predictions or draw conclusions about a larger population based on a sample. It uses techniques like hypothesis testing, confidence intervals, and regression analysis. Together, these two types help us understand data better and make informed decisions."
   ]
  },
  {
   "cell_type": "markdown",
   "id": "7620bd91-460d-4323-9b50-7f7f0ff7ffc8",
   "metadata": {},
   "source": [
    "Q3. What are descriptive statistics?"
   ]
  },
  {
   "cell_type": "markdown",
   "id": "17b85424-d0f9-4b72-bc38-c2c8571dc489",
   "metadata": {},
   "source": [
    "A3. Descriptive statistics is a type of statistics that deals with summarizing and organizing data so it becomes easy to understand. It does not make predictions or generalizations but only describes the data that is collected. "
   ]
  },
  {
   "cell_type": "markdown",
   "id": "f5969a20-6cd9-4b30-84fd-5a90525fc0d4",
   "metadata": {},
   "source": [
    "Q4. What is inferential statistics?"
   ]
  },
  {
   "cell_type": "markdown",
   "id": "62c67aa5-e537-4080-9b23-494462030388",
   "metadata": {},
   "source": [
    "A4. Inferential statistics is a type of statistics that helps us make predictions or draw conclusions about a larger group (population) based on data collected from a smaller part of it (sample). It uses methods like hypothesis testing, confidence intervals, and regression analysis to make these inferences."
   ]
  },
  {
   "cell_type": "markdown",
   "id": "48644fc6-dbea-47e7-b390-c2676ce6c48d",
   "metadata": {},
   "source": [
    "Q5. What is sampling in statistics?"
   ]
  },
  {
   "cell_type": "markdown",
   "id": "c50b2055-78bc-4429-a6fa-de101f41a079",
   "metadata": {},
   "source": [
    "A5. Sampling in statistics is the process of selecting a small group (called a sample) from a larger group (called a population) to study and draw conclusions about the whole population."
   ]
  },
  {
   "cell_type": "markdown",
   "id": "43b87e9c-efa3-4b52-b1c7-e0ec17186e4c",
   "metadata": {},
   "source": [
    "Q6. What are the different types of sampling methods?"
   ]
  },
  {
   "cell_type": "markdown",
   "id": "4a7985b0-732b-4de7-ac1a-a0acebc85b06",
   "metadata": {},
   "source": [
    "A6. There are several types of sampling methods used, The main methods are:\n",
    "\n",
    "Simple Random Sampling – Every member of the population has an equal chance of being selected.\n",
    "\n",
    "Stratified Sampling – The population is divided into groups (strata) based on a characteristic, and samples are taken from each group.\n",
    "\n",
    "Cluster Sampling – The population is divided into clusters, and a few clusters are chosen randomly for study.\n",
    "\n",
    "Systematic Sampling – Every nth member is selected from a list of the population."
   ]
  },
  {
   "cell_type": "markdown",
   "id": "b1d43dae-f811-46a6-a73b-85c134019297",
   "metadata": {},
   "source": [
    "Q7.  What is the difference between random and non-random sampling?"
   ]
  },
  {
   "cell_type": "markdown",
   "id": "6b6aa0f2-641a-4214-8f41-381587f14930",
   "metadata": {},
   "source": [
    "A7. Random sampling is a method where every member of the population has an equal chance of being selected. It is unbiased and gives a more accurate representation of the population. Examples include simple random sampling and stratified sampling.\n",
    "\n",
    "Non-random sampling, on the other hand, does not give every member an equal chance of selection. It may involve choosing samples based on convenience, judgment, or other non-random criteria, which can lead to bias. "
   ]
  },
  {
   "cell_type": "markdown",
   "id": "ac1ced42-2819-43b0-a3af-4f92524178f8",
   "metadata": {},
   "source": [
    "Q8. Define and give examples of qualitative and quantitative data."
   ]
  },
  {
   "cell_type": "markdown",
   "id": "630ab393-2c63-48b5-8d27-2af6286116ef",
   "metadata": {},
   "source": [
    "A8. Qualitative data is non-numerical and describes qualities or categories. It is used to describe characteristics such as color, gender, or opinions. \n",
    "\n",
    "Quantitative data is numerical and represents quantities or amounts. It can be measured and counted. "
   ]
  },
  {
   "cell_type": "markdown",
   "id": "6e819509-c0e5-4661-b2e4-02ee13adb9fc",
   "metadata": {},
   "source": [
    "Q9. What are the different types of data in statistics?"
   ]
  },
  {
   "cell_type": "markdown",
   "id": "671ae8d3-2b2e-46a0-9f69-741f3efab135",
   "metadata": {},
   "source": [
    "A9. Qualitative data describes categories or qualities and is further divided into:\n",
    "\n",
    "    Nominal data: No natural order (e.g., colors, gender, blood group).\n",
    "\n",
    "    Ordinal data: Has a meaningful order (e.g., ranks, ratings like good/better/best).\n",
    "\n",
    "Quantitative data consists of numbers and is further divided into:\n",
    "\n",
    "    Discrete data: Countable numbers (e.g., number of books, students in a class).\n",
    "\n",
    "    Continuous data: Measurable values (e.g., weight, height, temperature)."
   ]
  },
  {
   "cell_type": "markdown",
   "id": "0cfaddf2-283f-41ef-9378-8ec0463cd82c",
   "metadata": {},
   "source": [
    "Q10. Explain nominal, ordinal, interval, and ratio levels of measurement."
   ]
  },
  {
   "cell_type": "markdown",
   "id": "d85694d4-a493-4ae8-9ecc-2154a0716548",
   "metadata": {},
   "source": [
    "A10. Nominal level: It deals with names or labels without any order. Example: gender (male/female), colors (red, green).\n",
    "\n",
    "Ordinal level: Data is ordered, but the difference between values is not meaningful. Example: ranks (1st, 2nd, 3rd), rating scales (poor, fair, good).\n",
    "\n",
    "Interval level: Data has an order and equal differences, but no true zero. Example: temperature in Celsius – 0°C doesn’t mean ‘no temperature’.\n",
    "\n",
    "Ratio level: Like interval, but it has a true zero, so we can compare using ratios. Example: height, weight, age, income – 0 means absence of the quantity."
   ]
  },
  {
   "cell_type": "markdown",
   "id": "6b26d2b4-e075-4b97-9183-7d4d6432c9df",
   "metadata": {},
   "source": [
    "Q11. What is the measure of central tendency?"
   ]
  },
  {
   "cell_type": "markdown",
   "id": "8649c29e-efee-4d9b-b5ca-0226756d7b00",
   "metadata": {},
   "source": [
    "A11. A measure of central tendency is a statistical value that represents the center or middle of a data set. It gives us an idea of the average or typical value in the data. The three main measures of central tendency are:\n",
    "\n",
    "Mean – the average of all values (sum of values divided by number of values).\n",
    "\n",
    "Median – the middle value when data is arranged in order.\n",
    "\n",
    "Mode – the value that appears most frequently in the data."
   ]
  },
  {
   "cell_type": "markdown",
   "id": "5f333b5f-32cf-40d6-8039-912ec5b46ebf",
   "metadata": {},
   "source": [
    "Q12. Define mean, median, and mode."
   ]
  },
  {
   "cell_type": "markdown",
   "id": "a0628fc6-71eb-4e81-ac1e-471ad7919f62",
   "metadata": {},
   "source": [
    "A12. Mean is the average of all values. It is found by adding all the numbers and dividing by the total number of values. For example, the mean of 10, 20, and 30 is (10 + 20 + 30) ÷ 3 = 20.\n",
    "\n",
    "Median is the middle value when the data is arranged in order. If the number of values is odd, it's the center one; if even, it's the average of the two middle values. For example, in 5, 10, 15, the median is 10.\n",
    "\n",
    "Mode is the value that appears most often in a dataset. A set can have one mode, more than one mode, or no mode at all. For example, in 2, 3, 3, 5, the mode is 3."
   ]
  },
  {
   "cell_type": "markdown",
   "id": "7c0c0818-9c35-4192-a16a-d743f9b4a83a",
   "metadata": {},
   "source": [
    "Q13. What is the significance of the measure of central tendency?"
   ]
  },
  {
   "cell_type": "markdown",
   "id": "f47090a4-8869-4a22-8371-637c66826495",
   "metadata": {},
   "source": [
    "A13. The measure of central tendency is important because it helps to summarize a large set of data with a single value that represents the entire distribution. It gives us an idea of the \"average\" or most typical value in the data, making it easier to understand and compare different datasets."
   ]
  },
  {
   "cell_type": "markdown",
   "id": "dc55e724-57b2-42ba-b8f0-7960aa3e6491",
   "metadata": {},
   "source": [
    "Q14. What is variance, and how is it calculated?"
   ]
  },
  {
   "cell_type": "markdown",
   "id": "71e67707-3a9b-4c72-a37d-ac46816a238f",
   "metadata": {},
   "source": [
    "A14. Variance is a measure of how much the values in a data set spread out from the mean. It tells us whether the data points are close to the average or widely spread out.\n",
    "\n",
    "To calculate variance:\n",
    "\n",
    "    Find the mean (average) of the data.\n",
    "\n",
    "    Subtract the mean from each value to get the deviation.\n",
    "\n",
    "    Square each deviation.\n",
    "\n",
    "    Add all the squared deviations.\n",
    "\n",
    "    Divide the total by the number of values (for population) or by (n - 1) for sample."
   ]
  },
  {
   "cell_type": "markdown",
   "id": "2109fda7-ff45-48d1-8fa1-07b6adce3e0c",
   "metadata": {},
   "source": [
    "Q15. What is standard deviation, and why is it important?"
   ]
  },
  {
   "cell_type": "markdown",
   "id": "719e4cec-b4dc-4b5a-b7b2-ffeb4610afc2",
   "metadata": {},
   "source": [
    "A15. Standard deviation is a measure of how much the values in a dataset vary or spread out from the mean (average). It is the square root of the variance and tells us whether the data points are close to the mean or scattered widely. Standard deviation is important because it helps in understanding the reliability and stability of data."
   ]
  },
  {
   "cell_type": "markdown",
   "id": "837c8e12-aef4-4ba2-bd62-49e472d9da6d",
   "metadata": {},
   "source": [
    "Q16.  Define and explain the term range in statistics."
   ]
  },
  {
   "cell_type": "markdown",
   "id": "e75e0f9b-5388-406f-8c8b-02929b356bf4",
   "metadata": {},
   "source": [
    "A16. Range in statistics is the simplest measure of dispersion. It shows the difference between the highest and lowest values in a dataset. The formula to calculate range is:\n",
    "\n",
    "    Range = Maximum value − Minimum value\n",
    "    \n",
    "It gives a basic idea of how spread out the data is. However, it is affected by extreme values (outliers), so it may not always give a complete picture. "
   ]
  },
  {
   "cell_type": "markdown",
   "id": "3a545c6a-7c47-48eb-820f-3af4597d83d7",
   "metadata": {},
   "source": [
    "Q17. What is the difference between variance and standard deviation?"
   ]
  },
  {
   "cell_type": "markdown",
   "id": "307bef39-30a3-4768-ac52-9d1c1f72a8fc",
   "metadata": {},
   "source": [
    "A17. Variance and standard deviation are both measures of dispersion that show how spread out the data is from the mean. The key difference is that variance is the average of the squared differences from the mean, while standard deviation is the square root of the variance. Standard deviation is more commonly used because it is in the same units as the original data, making it easier to interpret. "
   ]
  },
  {
   "cell_type": "markdown",
   "id": "c08ffab2-d4cd-4a54-abe8-ede524340d60",
   "metadata": {},
   "source": [
    "Q18. What is skewness in a dataset?"
   ]
  },
  {
   "cell_type": "markdown",
   "id": "138bfef6-f712-48fa-af16-1b87914ad62d",
   "metadata": {},
   "source": [
    "A18. Skewness in a dataset refers to the measure of asymmetry or lack of symmetry in the distribution of data. If the data is perfectly symmetrical, it has zero skewness. When the data has a long tail on the right side, it is called positively skewed, meaning most values are on the lower side. When the tail is on the left side, it is negatively skewed, meaning most values are higher. "
   ]
  },
  {
   "cell_type": "markdown",
   "id": "4f24204c-c06c-448b-8e58-784eed1221f4",
   "metadata": {},
   "source": [
    "Q19. What does it mean if a dataset is positively or negatively skewed?"
   ]
  },
  {
   "cell_type": "markdown",
   "id": "a9319188-48bc-4e60-8c16-a398457efc9d",
   "metadata": {},
   "source": [
    "A19. If a dataset is positively skewed, it means that most of the data values are concentrated on the lower side, and the tail of the distribution stretches toward the higher values on the right. In this case, the mean is greater than the median. On the other hand, if a dataset is negatively skewed, most of the values are on the higher side, and the tail extends toward the lower values on the left. Here, the mean is less than the median."
   ]
  },
  {
   "cell_type": "markdown",
   "id": "f3d5813b-8094-47fc-867d-e3605ea86d77",
   "metadata": {},
   "source": [
    "Q20. Define and explain kurtosis."
   ]
  },
  {
   "cell_type": "markdown",
   "id": "c033148f-d8fe-4d89-9beb-6bf60c6e9763",
   "metadata": {},
   "source": [
    "A20. Kurtosis is a statistical measure that describes the shape and sharpness of the peak of a data distribution curve. It tells us how concentrated the data is around the mean and whether the tails (extreme values) are heavy or light.\n",
    "There are three types of kurtosis: mesokurtic (normal peak, like a normal distribution), leptokurtic (high peak with heavy tails), and platykurtic (flat peak with light tails). High kurtosis means more outliers, while low kurtosis means fewer outliers. Kurtosis helps in understanding the presence of extreme values in the data."
   ]
  },
  {
   "cell_type": "markdown",
   "id": "3842255a-dcee-4623-8393-c1b2c6bdd694",
   "metadata": {},
   "source": [
    "Q21. What is the purpose of covariance?"
   ]
  },
  {
   "cell_type": "markdown",
   "id": "5db5529c-a59e-4ac2-9a41-951e7f0fe0c7",
   "metadata": {},
   "source": [
    "A21. Covariance is a statistical measure that shows the direction of the relationship between two variables. It tells us whether the two variables increase or decrease together. If the covariance is positive, it means that when one variable increases, the other also tends to increase. If it is negative, it means that when one increases, the other tends to decrease. "
   ]
  },
  {
   "cell_type": "markdown",
   "id": "11836d4f-0066-48db-a244-99b73b25a76b",
   "metadata": {},
   "source": [
    "Q22. What does correlation measure in statistics?"
   ]
  },
  {
   "cell_type": "markdown",
   "id": "6d608fff-fb84-4a7a-99aa-6fa10de7bb0d",
   "metadata": {},
   "source": [
    "A22. Correlation in statistics measures the strength and direction of the relationship between two variables. It tells us how closely the changes in one variable are related to changes in another. The value of correlation lies between –1 and +1. A value close to +1 means a strong positive relationship, close to –1 means a strong negative relationship, and 0 means no relationship."
   ]
  },
  {
   "cell_type": "markdown",
   "id": "7833fa8f-590e-48dd-860f-d243419b842e",
   "metadata": {},
   "source": [
    "Q23. What is the difference between covariance and correlation?"
   ]
  },
  {
   "cell_type": "markdown",
   "id": "5c753d7d-0645-447e-9ccc-e11a440c7c37",
   "metadata": {},
   "source": [
    "A23. Covariance and correlation both measure the relationship between two variables, but there is a key difference. Covariance shows the direction of the relationship—whether the variables increase or decrease together—but it does not show the strength clearly, and its value depends on the units of the data. On the other hand, correlation shows both the direction and strength of the relationship, and its value is standardized between –1 and +1, making it easier to interpret. In short, correlation is a scaled version of covariance that gives more meaningful results."
   ]
  },
  {
   "cell_type": "markdown",
   "id": "e286b353-7ea1-4540-8c5d-d8a5da7557ee",
   "metadata": {},
   "source": [
    "Q24. What are some real-world applications of statistics?"
   ]
  },
  {
   "cell_type": "markdown",
   "id": "46eb530d-2a95-40ac-8986-27f4422c170a",
   "metadata": {},
   "source": [
    "A24. Statistics has many real-world applications across different fields. In business, it is used to analyze sales, customer behavior, and market trends. In healthcare, statistics help in tracking disease outbreaks, testing new medicines, and improving patient care. In government, it is used for planning budgets, conducting population census, and making policy decisions. Sports analysts use statistics to evaluate player performance, while students and researchers use it to study data and draw conclusions."
   ]
  },
  {
   "cell_type": "markdown",
   "id": "7307a01c-2bb0-4b03-b221-e7f7e708260b",
   "metadata": {},
   "source": [
    "## Practical"
   ]
  },
  {
   "cell_type": "code",
   "execution_count": 1,
   "id": "8bd8cc82-e2af-4fd0-8864-a41f3fe706a2",
   "metadata": {},
   "outputs": [
    {
     "name": "stdout",
     "output_type": "stream",
     "text": [
      "Data: [5, 10, 15, 10, 20, 25, 10]\n",
      "Mean: 13.571428571428571\n",
      "Median: 10\n",
      "Mode: 10\n"
     ]
    }
   ],
   "source": [
    "# Q1. How do you calculate the mean, median, and mode of a dataset?\n",
    "\n",
    "import statistics\n",
    "\n",
    "data = [5, 10, 15, 10, 20, 25, 10]\n",
    "mean = statistics.mean(data)\n",
    "median = statistics.median(data)\n",
    "mode = statistics.mode(data)\n",
    "print(\"Data:\", data)\n",
    "print(\"Mean:\", mean)\n",
    "print(\"Median:\", median)\n",
    "print(\"Mode:\", mode)"
   ]
  },
  {
   "cell_type": "code",
   "execution_count": 2,
   "id": "633d6cf2-488e-4aaa-8067-550bd0c108e1",
   "metadata": {},
   "outputs": [
    {
     "name": "stdout",
     "output_type": "stream",
     "text": [
      "Variance: 250\n",
      "Standard Deviation: 15.811388300841896\n"
     ]
    }
   ],
   "source": [
    "# Q2. Write a Python program to compute the variance and standard deviation of a dataset.\n",
    "\n",
    "data = [10, 20, 30, 40, 50]\n",
    "variance = statistics.variance(data)\n",
    "std_dev = statistics.stdev(data)\n",
    "print(\"Variance:\", variance)\n",
    "print(\"Standard Deviation:\", std_dev)"
   ]
  },
  {
   "cell_type": "code",
   "execution_count": 3,
   "id": "deae9abf-aa95-401f-9751-6a8c43a8c770",
   "metadata": {},
   "outputs": [
    {
     "name": "stdout",
     "output_type": "stream",
     "text": [
      "Nominal Data (Name): ['Alice', 'Bob', 'Charlie', 'David']\n",
      "Ordinal Data (Satisfaction Level): ['High', 'Medium', 'Low', 'Medium']\n",
      "Interval Data (Temperature): [22, 25, 20, 24]\n",
      "Ratio Data (Height): [160, 175, 168, 180]\n"
     ]
    }
   ],
   "source": [
    "# Q3. Create a dataset and classify it into nominal, ordinal, interval, and ratio types\n",
    "\n",
    "dataset = {\n",
    "    \"Name\": [\"Alice\", \"Bob\", \"Charlie\", \"David\"],                 \n",
    "    \"Satisfaction Level\": [\"High\", \"Medium\", \"Low\", \"Medium\"],    \n",
    "    \"Temperature (°C)\": [22, 25, 20, 24],                         \n",
    "    \"Height (cm)\": [160, 175, 168, 180]                           \n",
    "}\n",
    "\n",
    "print(\"Nominal Data (Name):\", dataset[\"Name\"])\n",
    "print(\"Ordinal Data (Satisfaction Level):\", dataset[\"Satisfaction Level\"])\n",
    "print(\"Interval Data (Temperature):\", dataset[\"Temperature (°C)\"])\n",
    "print(\"Ratio Data (Height):\", dataset[\"Height (cm)\"])"
   ]
  },
  {
   "cell_type": "code",
   "execution_count": 4,
   "id": "8ac37746-8e63-4390-a7e1-13ddf3c2479f",
   "metadata": {},
   "outputs": [
    {
     "name": "stdout",
     "output_type": "stream",
     "text": [
      "Random Sample: [72, 44, 74, 73, 8, 4, 38, 83, 85, 94]\n",
      "\n",
      "Stratified Sample:\n",
      "    ID Group\n",
      "5    6     A\n",
      "11  12     B\n",
      "9   10     A\n",
      "13  14     B\n"
     ]
    }
   ],
   "source": [
    "# Q4. Implement sampling techniques like random sampling and stratified sampling\n",
    "\n",
    "import random\n",
    "import pandas as pd\n",
    "from sklearn.model_selection import train_test_split\n",
    "\n",
    "data = list(range(1, 101))  # Data from 1 to 100\n",
    "random_sample = random.sample(data, 10)\n",
    "print(\"Random Sample:\", random_sample)\n",
    "\n",
    "df = pd.DataFrame({\n",
    "    'ID': range(1, 21),\n",
    "    'Group': ['A'] * 10 + ['B'] * 10\n",
    "})\n",
    "stratified_sample, _ = train_test_split(df, test_size=0.8, stratify=df['Group'])\n",
    "print(\"\\nStratified Sample:\")\n",
    "print(stratified_sample)"
   ]
  },
  {
   "cell_type": "code",
   "execution_count": 5,
   "id": "d4f7ad5a-826f-404a-ae28-646be445a4f3",
   "metadata": {},
   "outputs": [
    {
     "name": "stdout",
     "output_type": "stream",
     "text": [
      "Range of the dataset: 40\n"
     ]
    }
   ],
   "source": [
    "# Q5. Write a Python function to calculate the range of a dataset.\n",
    "\n",
    "def calculate_range(data):\n",
    "    if not data:\n",
    "        return None\n",
    "    return max(data) - min(data)\n",
    "\n",
    "dataset = [15, 25, 35, 45, 55]\n",
    "result = calculate_range(dataset)\n",
    "print(\"Range of the dataset:\", result)"
   ]
  },
  {
   "cell_type": "code",
   "execution_count": 6,
   "id": "247c6e49-1a40-4b7e-97b8-a440d2f7c771",
   "metadata": {},
   "outputs": [
    {
     "data": {
      "image/png": "[encoded data removed]",
      "text/plain": [
       "<Figure size 640x480 with 1 Axes>"
      ]
     },
     "metadata": {},
     "output_type": "display_data"
    }
   ],
   "source": [
    "# Q6. Create a dataset and plot its histogram to visualize skewness\n",
    "\n",
    "import numpy as np\n",
    "import matplotlib.pyplot as plt\n",
    "\n",
    "data = np.random.exponential(scale=2.0, size=1000)\n",
    "\n",
    "plt.hist(data, bins=30, color='skyblue', edgecolor='black')\n",
    "plt.title('Histogram to Visualize Skewness')\n",
    "plt.xlabel('Values')\n",
    "plt.ylabel('Frequency')\n",
    "plt.grid(True)\n",
    "plt.show()"
   ]
  },
  {
   "cell_type": "code",
   "execution_count": 7,
   "id": "d2930b4e-ed85-4465-bbc5-be31e5de7155",
   "metadata": {},
   "outputs": [
    {
     "name": "stdout",
     "output_type": "stream",
     "text": [
      "Skewness: 0.14743209910575858\n",
      "Kurtosis: 0.028260882965168044\n"
     ]
    }
   ],
   "source": [
    "# Q7. Calculate skewness and kurtosis of a dataset using Python libraries\n",
    "\n",
    "from scipy.stats import skew, kurtosis\n",
    "\n",
    "data = np.random.normal(loc=50, scale=10, size=1000) \n",
    "series = pd.Series(data)\n",
    "data_skewness = skew(series)\n",
    "data_kurtosis = kurtosis(series)  \n",
    "print(\"Skewness:\", data_skewness)\n",
    "print(\"Kurtosis:\", data_kurtosis)"
   ]
  },
  {
   "cell_type": "code",
   "execution_count": 8,
   "id": "22abed37-df98-4751-b18c-1eeaf1d0ee89",
   "metadata": {},
   "outputs": [
    {
     "data": {
      "image/png": "[encoded data removed]",
      "text/plain": [
       "<Figure size 1200x500 with 2 Axes>"
      ]
     },
     "metadata": {},
     "output_type": "display_data"
    }
   ],
   "source": [
    "# Q8. Generate a dataset and demonstrate positive and negative skewness\n",
    "\n",
    "pos_skew_data = np.random.exponential(scale=2.0, size=1000)\n",
    "neg_skew_data = -np.random.exponential(scale=2.0, size=1000) + 10\n",
    "pos_skew_value = skew(pos_skew_data)\n",
    "neg_skew_value = skew(neg_skew_data)\n",
    "plt.figure(figsize=(12, 5))\n",
    "plt.subplot(1, 2, 1)\n",
    "plt.hist(pos_skew_data, bins=30, color='skyblue', edgecolor='black')\n",
    "plt.title(f'Positive Skewness\\nSkew = {pos_skew_value:.2f}')\n",
    "plt.xlabel('Value')\n",
    "plt.ylabel('Frequency')\n",
    "plt.subplot(1, 2, 2)\n",
    "plt.hist(neg_skew_data, bins=30, color='lightcoral', edgecolor='black')\n",
    "plt.title(f'Negative Skewness\\nSkew = {neg_skew_value:.2f}')\n",
    "plt.xlabel('Value')\n",
    "plt.ylabel('Frequency')\n",
    "plt.tight_layout()\n",
    "plt.show()"
   ]
  },
  {
   "cell_type": "code",
   "execution_count": 10,
   "id": "c20d4719-ca1f-4df1-9d7b-e35efef3a3bd",
   "metadata": {},
   "outputs": [
    {
     "name": "stdout",
     "output_type": "stream",
     "text": [
      "Covariance: 218.0\n"
     ]
    }
   ],
   "source": [
    "# Q9. Write a Python script to calculate covariance between two datasets.\n",
    "\n",
    "x = [10, 20, 30, 40, 50]\n",
    "y = [12, 24, 33, 47, 55]\n",
    "cov_matrix = np.cov(x, y, bias=True) \n",
    "numpy_cov = cov_matrix[0, 1]\n",
    "print(\"Covariance:\", numpy_cov)"
   ]
  },
  {
   "cell_type": "code",
   "execution_count": 11,
   "id": "ed704cbe-d6c5-4ce0-854b-1dd4a354a768",
   "metadata": {},
   "outputs": [
    {
     "name": "stdout",
     "output_type": "stream",
     "text": [
      "Correlation Coefficient: 0.9971922417083551\n"
     ]
    }
   ],
   "source": [
    "# Q10. Write a Python script to calculate the correlation coefficient between two datasets.\n",
    "\n",
    "x = [10, 20, 30, 40, 50]\n",
    "y = [12, 24, 33, 47, 55]\n",
    "numpy_corr = np.corrcoef(x, y)[0, 1]\n",
    "print(\"Correlation Coefficient:\", numpy_corr)"
   ]
  },
  {
   "cell_type": "code",
   "execution_count": 12,
   "id": "c3ee6cf6-31ef-44cf-a7ed-bbfcec5649c8",
   "metadata": {},
   "outputs": [
    {
     "data": {
      "image/png": "[encoded data removed]",
      "text/plain": [
       "<Figure size 640x480 with 1 Axes>"
      ]
     },
     "metadata": {},
     "output_type": "display_data"
    }
   ],
   "source": [
    "# Q11. Create a scatter plot to visualize the relationship between two variables.\n",
    "\n",
    "x = [10, 20, 30, 40, 50]\n",
    "y = [12, 25, 31, 47, 53]\n",
    "plt.scatter(x, y, color='blue', edgecolor='black')\n",
    "plt.title(\"Scatter Plot: X vs Y\")\n",
    "plt.xlabel(\"X Values\")\n",
    "plt.ylabel(\"Y Values\")\n",
    "plt.grid(True)\n",
    "plt.show()"
   ]
  },
  {
   "cell_type": "code",
   "execution_count": 13,
   "id": "6db47ba4-b9aa-449f-982a-41ef6e891453",
   "metadata": {},
   "outputs": [
    {
     "name": "stdout",
     "output_type": "stream",
     "text": [
      "Simple Random Sample:\n",
      "    ID\n",
      "0   1\n",
      "1  11\n",
      "2  23\n",
      "3  40\n",
      "4  45\n",
      "5  46\n",
      "6  54\n",
      "7  71\n",
      "8  81\n",
      "9  84\n",
      "\n",
      "Systematic Sample:\n",
      "    ID\n",
      "0   7\n",
      "1  17\n",
      "2  27\n",
      "3  37\n",
      "4  47\n",
      "5  57\n",
      "6  67\n",
      "7  77\n",
      "8  87\n",
      "9  97\n"
     ]
    }
   ],
   "source": [
    "# Q12. Implement and compare simple random sampling and systematic sampling\n",
    "\n",
    "data = pd.DataFrame({'ID': range(1, 101)})  \n",
    "random_sample = data.sample(n=10, random_state=42) \n",
    "def systematic_sampling(df, sample_size):\n",
    "    step = len(df) // sample_size\n",
    "    start = random.randint(0, step - 1)\n",
    "    indices = list(range(start, len(df), step))\n",
    "    return df.iloc[indices[:sample_size]]\n",
    "systematic_sample = systematic_sampling(data, 10)\n",
    "print(\"Simple Random Sample:\\n\", random_sample.sort_values(\"ID\").reset_index(drop=True))\n",
    "print(\"\\nSystematic Sample:\\n\", systematic_sample.sort_values(\"ID\").reset_index(drop=True))"
   ]
  },
  {
   "cell_type": "code",
   "execution_count": 14,
   "id": "0b02b687-72f6-4107-af26-a07d981f8b09",
   "metadata": {},
   "outputs": [
    {
     "name": "stdout",
     "output_type": "stream",
     "text": [
      "Mean: 27.0\n",
      "Median: 28.0\n",
      "Mode: 30.91\n"
     ]
    }
   ],
   "source": [
    "# Q13. Calculate the mean, median, and mode of grouped data.\n",
    "\n",
    "classes = [(0, 10), (10, 20), (20, 30), (30, 40), (40, 50)]\n",
    "frequencies = [5, 8, 15, 16, 6]\n",
    "midpoints = [(a + b) / 2 for a, b in classes]\n",
    "fx = [f * x for f, x in zip(frequencies, midpoints)]\n",
    "mean = sum(fx) / sum(frequencies)\n",
    "cumulative_f = [sum(frequencies[:i+1]) for i in range(len(frequencies))]\n",
    "n = sum(frequencies)\n",
    "median_class_index = next(i for i, cf in enumerate(cumulative_f) if cf >= n / 2)\n",
    "L = classes[median_class_index][0]\n",
    "h = classes[median_class_index][1] - classes[median_class_index][0]\n",
    "F = cumulative_f[median_class_index - 1] if median_class_index > 0 else 0\n",
    "f = frequencies[median_class_index]\n",
    "median = L + ((n/2 - F) / f) * h\n",
    "modal_class_index = frequencies.index(max(frequencies))\n",
    "Lm = classes[modal_class_index][0]\n",
    "fm = frequencies[modal_class_index]\n",
    "f1 = frequencies[modal_class_index - 1] if modal_class_index > 0 else 0\n",
    "f2 = frequencies[modal_class_index + 1] if modal_class_index < len(frequencies) - 1 else 0\n",
    "mode = Lm + ((fm - f1) / ((fm - f1) + (fm - f2))) * h\n",
    "print(\"Mean:\", round(mean, 2))\n",
    "print(\"Median:\", round(median, 2))\n",
    "print(\"Mode:\", round(mode, 2))"
   ]
  },
  {
   "cell_type": "code",
   "execution_count": 15,
   "id": "dbf1f5ef-9dee-45ef-a511-4dc34991fe58",
   "metadata": {},
   "outputs": [
    {
     "name": "stdout",
     "output_type": "stream",
     "text": [
      "Simulated Data: [56 85 65 98 94 92 78 67 62 73 98 92 82 98 86 83 78 87 76 76 51 70 41 41\n",
      " 65 57 60 83 61 52 67 40 72 45 72 57 62 74 81 59 77 83 70 53 81 91 58 59\n",
      " 84 56 96 94 56 86 64 92 61 72 87 96 58 85 88 45 82 74 60 93 55 91 74 84\n",
      " 68 88 90 52 69 43 73 42 97 86 72 89 87 92 68 44 81 52 60 87 76 67 95 92\n",
      " 40 71 41 61]\n",
      "\n",
      "--- Central Tendency ---\n",
      "Mean: 72.24\n",
      "Median: 73.0\n",
      "Mode: 92\n",
      "\n",
      "--- Dispersion ---\n",
      "Range: 58\n",
      "Variance: 270.98\n",
      "Standard Deviation: 16.46\n"
     ]
    }
   ],
   "source": [
    "# Q14. Simulate data using Python and calculate its central tendency and dispersion.\n",
    "\n",
    "data = np.random.randint(40, 100, size=100)  \n",
    "mean = np.mean(data)\n",
    "median = np.median(data)\n",
    "mode = statistics.mode(data)\n",
    "data_range = np.max(data) - np.min(data)\n",
    "variance = np.var(data)          \n",
    "std_dev = np.std(data)          \n",
    "print(\"Simulated Data:\", data)\n",
    "print(\"\\n--- Central Tendency ---\")\n",
    "print(\"Mean:\", round(mean, 2))\n",
    "print(\"Median:\", median)\n",
    "print(\"Mode:\", mode)\n",
    "print(\"\\n--- Dispersion ---\")\n",
    "print(\"Range:\", data_range)\n",
    "print(\"Variance:\", round(variance, 2))\n",
    "print(\"Standard Deviation:\", round(std_dev, 2))"
   ]
  },
  {
   "cell_type": "code",
   "execution_count": 16,
   "id": "74936caa-0aa8-4a69-840b-f9c2ec0bddf9",
   "metadata": {},
   "outputs": [
    {
     "name": "stdout",
     "output_type": "stream",
     "text": [
      "Descriptive Statistics:\n",
      "\n",
      "             Math     Science     English\n",
      "count  100.000000  100.000000  100.000000\n",
      "mean    69.580000   64.070000   61.140000\n",
      "std     18.031499   16.811645   18.602715\n",
      "min     41.000000   35.000000   30.000000\n",
      "25%     54.000000   49.000000   45.750000\n",
      "50%     68.000000   65.000000   61.500000\n",
      "75%     86.000000   76.250000   78.000000\n",
      "max     99.000000   94.000000   88.000000\n"
     ]
    }
   ],
   "source": [
    "# Q15. Use NumPy or pandas to summarize a dataset’s descriptive statistics.\n",
    "\n",
    "np.random.seed(42)\n",
    "data = {\n",
    "    'Math': np.random.randint(40, 100, size=100),\n",
    "    'Science': np.random.randint(35, 95, size=100),\n",
    "    'English': np.random.randint(30, 90, size=100)\n",
    "}\n",
    "df = pd.DataFrame(data)\n",
    "summary = df.describe()\n",
    "print(\"Descriptive Statistics:\\n\")\n",
    "print(summary)"
   ]
  },
  {
   "cell_type": "code",
   "execution_count": 18,
   "id": "db2b344b-2fe5-47e2-9ef5-2ee3fe86f2a2",
   "metadata": {},
   "outputs": [
    {
     "data": {
      "image/png": "[encoded data removed]",
      "text/plain": [
       "<Figure size 600x500 with 1 Axes>"
      ]
     },
     "metadata": {},
     "output_type": "display_data"
    }
   ],
   "source": [
    "# Q16.Plot a boxplot to understand the spread and identify outliers.\n",
    "\n",
    "np.random.seed(42)\n",
    "normal_sales = np.random.randint(2000, 5000, size=50)\n",
    "outliers = [500, 6000, 7000]\n",
    "sales_data = np.concatenate((normal_sales, outliers))\n",
    "df = pd.DataFrame({'Daily Sales (₹)': sales_data})\n",
    "plt.figure(figsize=(6, 5))\n",
    "df.boxplot(column='Daily Sales (₹)', grid=True)\n",
    "plt.title('Boxplot of Daily Sales with Outliers')\n",
    "plt.ylabel('Sales in ₹')\n",
    "plt.show()"
   ]
  },
  {
   "cell_type": "code",
   "execution_count": 19,
   "id": "b0ad4379-3be8-4f93-944d-3c053b05019d",
   "metadata": {},
   "outputs": [
    {
     "name": "stdout",
     "output_type": "stream",
     "text": [
      "Q1 (25th percentile): 54.0\n",
      "Q3 (75th percentile): 63.0\n",
      "Interquartile Range (IQR): 9.0\n"
     ]
    }
   ],
   "source": [
    "# Q17. Calculate the interquartile range (IQR) of a dataset.\n",
    "\n",
    "data = [45, 50, 52, 54, 55, 56, 58, 60, 62, 63, 65, 70, 85]\n",
    "series = pd.Series(data)\n",
    "Q1 = series.quantile(0.25)\n",
    "Q3 = series.quantile(0.75)\n",
    "IQR = Q3 - Q1\n",
    "print(\"Q1 (25th percentile):\", Q1)\n",
    "print(\"Q3 (75th percentile):\", Q3)\n",
    "print(\"Interquartile Range (IQR):\", IQR)"
   ]
  },
  {
   "cell_type": "code",
   "execution_count": 20,
   "id": "9b81262e-e3e2-49aa-af70-bb4b178f79d3",
   "metadata": {},
   "outputs": [
    {
     "name": "stdout",
     "output_type": "stream",
     "text": [
      "   Scores   Z-Score\n",
      "0      55 -1.428869\n",
      "1      60 -1.020621\n",
      "2      65 -0.612372\n",
      "3      70 -0.204124\n",
      "4      75  0.204124\n",
      "5      80  0.612372\n",
      "6      85  1.020621\n",
      "7      90  1.428869\n"
     ]
    }
   ],
   "source": [
    "# Q18. Implement Z-score normalization and explain its significance\n",
    "\n",
    "data = [55, 60, 65, 70, 75, 80, 85, 90]\n",
    "df = pd.DataFrame({'Scores': data})\n",
    "df['Z-Score'] = (df['Scores'] - df['Scores'].mean()) / df['Scores'].std()\n",
    "print(df)"
   ]
  },
  {
   "cell_type": "markdown",
   "id": "3d6b3c7c-61c1-45a8-9ab0-79487250671e",
   "metadata": {},
   "source": [
    "Significance of Z-score:\n",
    "    After normalization, all features are centered around 0.\n",
    "    Useful when features have different scales or units.\n",
    "    Essential for distance-based or gradient-based machine learning models."
   ]
  },
  {
   "cell_type": "code",
   "execution_count": 21,
   "id": "6a6dd966-e2af-4bb1-acfa-07b710cf6eb0",
   "metadata": {},
   "outputs": [
    {
     "name": "stdout",
     "output_type": "stream",
     "text": [
      "Standard Deviation of Class A: 1.43\n",
      "Standard Deviation of Class B: 14.36\n"
     ]
    }
   ],
   "source": [
    "# Q19. Compare two datasets using their standard deviations.\n",
    "\n",
    "class_A = [70, 72, 71, 69, 70, 73, 68, 72, 71, 70]\n",
    "class_B = [60, 75, 80, 50, 90, 65, 85, 55, 95, 70]\n",
    "std_A = np.std(class_A)\n",
    "std_B = np.std(class_B)\n",
    "print(\"Standard Deviation of Class A:\", round(std_A, 2))\n",
    "print(\"Standard Deviation of Class B:\", round(std_B, 2))"
   ]
  },
  {
   "cell_type": "code",
   "execution_count": 23,
   "id": "c5d3d669-4383-4f34-8539-3dfd329dccef",
   "metadata": {},
   "outputs": [
    {
     "data": {
      "image/png": "[encoded data removed]",
      "text/plain": [
       "<Figure size 600x400 with 2 Axes>"
      ]
     },
     "metadata": {},
     "output_type": "display_data"
    }
   ],
   "source": [
    "# Q20. Write a Python program to visualize covariance using a heatmap.\n",
    "\n",
    "import seaborn as sns\n",
    "\n",
    "np.random.seed(42)\n",
    "data = pd.DataFrame({\n",
    "    'Math': np.random.randint(50, 100, 50),\n",
    "    'Science': np.random.randint(40, 95, 50),\n",
    "    'English': np.random.randint(30, 90, 50)\n",
    "})\n",
    "cov_matrix = data.cov()\n",
    "plt.figure(figsize=(6, 4))\n",
    "sns.heatmap(cov_matrix, annot=True, cmap='YlGnBu', fmt=\".2f\")\n",
    "plt.title('Covariance Heatmap')\n",
    "plt.tight_layout()\n",
    "plt.show()"
   ]
  },
  {
   "cell_type": "code",
   "execution_count": 24,
   "id": "98cb8c01-272b-46f0-a1ec-30145f0e778b",
   "metadata": {},
   "outputs": [
    {
     "data": {
      "image/png": "[encoded data removed]",
      "text/plain": [
       "<Figure size 600x400 with 2 Axes>"
      ]
     },
     "metadata": {},
     "output_type": "display_data"
    }
   ],
   "source": [
    "# Q21.  Use seaborn to create a correlation matrix for a dataset.\n",
    "\n",
    "np.random.seed(42)\n",
    "data = pd.DataFrame({\n",
    "    'Math': np.random.randint(50, 100, 50),\n",
    "    'Science': np.random.randint(40, 95, 50),\n",
    "    'English': np.random.randint(30, 90, 50)\n",
    "})\n",
    "corr_matrix = data.corr()\n",
    "plt.figure(figsize=(6, 4))\n",
    "sns.heatmap(corr_matrix, annot=True, cmap='coolwarm', fmt=\".2f\")\n",
    "plt.title('Correlation Matrix')\n",
    "plt.tight_layout()\n",
    "plt.show()"
   ]
  },
  {
   "cell_type": "code",
   "execution_count": 27,
   "id": "f83273d0-0845-4839-b3e7-a6efa660cd5c",
   "metadata": {},
   "outputs": [
    {
     "name": "stdout",
     "output_type": "stream",
     "text": [
      "Data: [88 78 64 92 57 70 88 68 72 60 60 73 85 89 73 52 71 51 73 93]\n",
      "Variance: 163.73\n",
      "Standard Deviation: 12.8\n"
     ]
    }
   ],
   "source": [
    "# Q22 Generate a dataset and implement both variance and standard deviation computations.\n",
    "\n",
    "np.random.seed(42)\n",
    "data = np.random.randint(50, 100, size=20)\n",
    "variance_np = np.var(data)           \n",
    "std_dev_np = np.std(data)            \n",
    "mean = sum(data) / len(data)\n",
    "squared_diffs = [(x - mean) ** 2 for x in data]\n",
    "variance_manual = sum(squared_diffs) / len(data)\n",
    "std_dev_manual = variance_manual ** 0.5\n",
    "print(\"Data:\", data)\n",
    "print(\"Variance:\", round(variance_np, 2))\n",
    "print(\"Standard Deviation:\", round(std_dev_np, 2))"
   ]
  },
  {
   "cell_type": "code",
   "execution_count": 28,
   "id": "e2092bd9-2b3b-4748-b400-e540486bc4a3",
   "metadata": {},
   "outputs": [
    {
     "data": {
      "image/png": "[encoded data removed]",
      "text/plain": [
       "<Figure size 800x500 with 1 Axes>"
      ]
     },
     "metadata": {},
     "output_type": "display_data"
    }
   ],
   "source": [
    "# Q23. Visualize skewness and kurtosis using Python libraries like matplotlib or seaborn.\n",
    "\n",
    "from scipy.stats import skew, kurtosis\n",
    "np.random.seed(42)\n",
    "data = np.random.exponential(scale=2.0, size=1000)\n",
    "skew_val = skew(data)\n",
    "kurt_val = kurtosis(data)  \n",
    "plt.figure(figsize=(8, 5))\n",
    "sns.histplot(data, kde=True, color='skyblue', bins=30)\n",
    "plt.title(f\"Distribution of Data\\nSkewness: {skew_val:.2f} | Kurtosis: {kurt_val:.2f}\")\n",
    "plt.xlabel(\"Value\")\n",
    "plt.ylabel(\"Frequency\")\n",
    "plt.grid(True)\n",
    "plt.tight_layout()\n",
    "plt.show()"
   ]
  },
  {
   "cell_type": "code",
   "execution_count": 29,
   "id": "9be25862-b1aa-4dc1-a60b-27fdbc5064a5",
   "metadata": {},
   "outputs": [
    {
     "name": "stdout",
     "output_type": "stream",
     "text": [
      "Pearson Correlation Coefficient: 0.937\n",
      "Spearman Correlation Coefficient: 0.915\n"
     ]
    }
   ],
   "source": [
    "# Q24. Implement the Pearson and Spearman correlation coefficients for a dataset\n",
    "\n",
    "from scipy.stats import pearsonr, spearmanr\n",
    "\n",
    "np.random.seed(42)\n",
    "x = np.random.randint(50, 100, 30)          \n",
    "y = x + np.random.normal(0, 5, size=30)    \n",
    "pearson_corr, _ = pearsonr(x, y)\n",
    "spearman_corr, _ = spearmanr(x, y)\n",
    "print(\"Pearson Correlation Coefficient:\", round(pearson_corr, 3))\n",
    "print(\"Spearman Correlation Coefficient:\", round(spearman_corr, 3))"
   ]
  }
 ],
 "metadata": {
  "kernelspec": {
   "display_name": "Python 3 (ipykernel)",
   "language": "python",
   "name": "python3"
  },
  "language_info": {
   "codemirror_mode": {
    "name": "ipython",
    "version": 3
   },
   "file_extension": ".py",
   "mimetype": "text/x-python",
   "name": "python",
   "nbconvert_exporter": "python",
   "pygments_lexer": "ipython3",
   "version": "3.12.7"
  }
 },
 "nbformat": 4,
 "nbformat_minor": 5
}
